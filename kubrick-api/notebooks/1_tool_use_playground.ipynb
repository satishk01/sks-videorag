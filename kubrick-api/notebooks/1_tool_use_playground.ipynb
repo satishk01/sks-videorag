{
 "cells": [
  {
   "cell_type": "code",
   "execution_count": null,
   "metadata": {},
   "outputs": [],
   "source": [
    "import os\n",
    "\n",
    "from dotenv import load_dotenv\n",
    "\n",
    "load_dotenv()"
   ]
  },
  {
   "cell_type": "markdown",
   "metadata": {},
   "source": [
    "# Tool Use\n"
   ]
  },
  {
   "cell_type": "markdown",
   "metadata": {},
   "source": [
    "First of all, let's get the available tools from the MCP server.\n"
   ]
  },
  {
   "cell_type": "code",
   "execution_count": null,
   "metadata": {},
   "outputs": [],
   "source": [
    "from fastmcp.client import Client\n",
    "\n",
    "mcp_client = Client(\"http://127.0.0.1:9090/mcp\")\n",
    "\n",
    "async with mcp_client:\n",
    "    mcp_tools = await mcp_client.list_tools()"
   ]
  },
  {
   "cell_type": "code",
   "execution_count": null,
   "metadata": {},
   "outputs": [],
   "source": [
    "mcp_tools"
   ]
  },
  {
   "cell_type": "markdown",
   "metadata": {},
   "source": [
    "Now that we have the tools, it's time to translate them into the format that the Groq API expects.\n"
   ]
  },
  {
   "cell_type": "code",
   "execution_count": 45,
   "metadata": {},
   "outputs": [],
   "source": [
    "from mcp.types import Tool\n",
    "\n",
    "\n",
    "def transform_schema_to_parameters(schema: dict) -> dict:\n",
    "    properties = {}\n",
    "\n",
    "    for field_name, field_info in schema[\"properties\"].items():\n",
    "        properties[field_name] = {\n",
    "            \"type\": field_info[\"type\"],\n",
    "            \"description\": field_info[\"title\"],\n",
    "        }\n",
    "        if \"default\" in field_info:\n",
    "            properties[field_name][\"default\"] = field_info[\"default\"]\n",
    "\n",
    "    return {\n",
    "        \"type\": \"object\",\n",
    "        \"properties\": properties,\n",
    "        \"required\": schema.get(\"required\"),\n",
    "    }\n",
    "\n",
    "\n",
    "def transform_tool_definition(tool: Tool) -> dict:\n",
    "    return {\n",
    "        \"type\": \"function\",\n",
    "        \"function\": {\n",
    "            \"name\": tool.name,\n",
    "            \"description\": tool.description,\n",
    "            \"parameters\": transform_schema_to_parameters(tool.inputSchema),\n",
    "        },\n",
    "    }"
   ]
  },
  {
   "cell_type": "code",
   "execution_count": 46,
   "metadata": {},
   "outputs": [],
   "source": [
    "tools = [\n",
    "    transform_tool_definition(mcp_tool)\n",
    "    for mcp_tool in mcp_tools\n",
    "    if mcp_tool.name != \"get_video_clip_from_image\"\n",
    "]"
   ]
  },
  {
   "cell_type": "code",
   "execution_count": null,
   "metadata": {},
   "outputs": [],
   "source": [
    "tools"
   ]
  },
  {
   "cell_type": "code",
   "execution_count": 48,
   "metadata": {},
   "outputs": [],
   "source": [
    "from groq import Groq\n",
    "\n",
    "MODEL = \"llama-3.3-70b-versatile\"\n",
    "groq_client = Groq(api_key=os.environ.get(\"GROQ_API_KEY\"))"
   ]
  },
  {
   "cell_type": "code",
   "execution_count": 49,
   "metadata": {},
   "outputs": [],
   "source": [
    "messages = [\n",
    "    {\"role\": \"system\", \"content\": \"You are Kubrick, a video processing assistant.\"},\n",
    "    {\n",
    "        \"role\": \"user\",\n",
    "        \"content\": \"Hey! What's your name?\",\n",
    "    },\n",
    "]\n",
    "\n",
    "response = groq_client.chat.completions.create(\n",
    "    model=MODEL,\n",
    "    messages=messages,\n",
    "    stream=False,\n",
    "    tools=tools,\n",
    "    tool_choice=\"auto\",\n",
    "    max_completion_tokens=4096,\n",
    ")"
   ]
  },
  {
   "cell_type": "code",
   "execution_count": null,
   "metadata": {},
   "outputs": [],
   "source": [
    "response.choices[0].message.content"
   ]
  },
  {
   "cell_type": "code",
   "execution_count": 68,
   "metadata": {},
   "outputs": [],
   "source": [
    "messages = [\n",
    "    {\n",
    "        \"role\": \"system\",\n",
    "        \"content\": \"You are Kubrick, a video processing assistant. The current video name is: ./videos/pass_the_butter_rick_and_morty.mp4\",\n",
    "    },\n",
    "    {\n",
    "        \"role\": \"user\",\n",
    "        \"content\": \"I want to get the clip of the video where Rick says 'Pass the butter', please\",\n",
    "    },\n",
    "]\n",
    "\n",
    "response = groq_client.chat.completions.create(\n",
    "    model=MODEL,\n",
    "    messages=messages,\n",
    "    stream=False,\n",
    "    tools=tools,\n",
    "    tool_choice=\"auto\",\n",
    "    max_completion_tokens=4096,\n",
    ")"
   ]
  },
  {
   "cell_type": "code",
   "execution_count": 69,
   "metadata": {},
   "outputs": [],
   "source": [
    "response.choices[0].message.content"
   ]
  },
  {
   "cell_type": "code",
   "execution_count": 70,
   "metadata": {},
   "outputs": [],
   "source": [
    "tool_calls = response.choices[0].message.tool_calls"
   ]
  },
  {
   "cell_type": "code",
   "execution_count": null,
   "metadata": {},
   "outputs": [],
   "source": [
    "tool_calls[0].function.name"
   ]
  },
  {
   "cell_type": "code",
   "execution_count": 72,
   "metadata": {},
   "outputs": [],
   "source": [
    "import json\n",
    "\n",
    "inputs = json.loads(tool_calls[0].function.arguments)"
   ]
  },
  {
   "cell_type": "code",
   "execution_count": null,
   "metadata": {},
   "outputs": [],
   "source": [
    "inputs"
   ]
  },
  {
   "cell_type": "code",
   "execution_count": null,
   "metadata": {},
   "outputs": [],
   "source": [
    "async with mcp_client:\n",
    "    inputs = {\n",
    "        \"user_query\": \"Rick says Pass the butter\",\n",
    "        \"video_path\": \"./videos/pass_the_butter_rick_and_morty.mp4\",\n",
    "    }\n",
    "    result = await mcp_client.call_tool(\"get_video_clip_from_user_query\", inputs)\n",
    "    print(result)"
   ]
  },
  {
   "cell_type": "code",
   "execution_count": null,
   "metadata": {},
   "outputs": [],
   "source": [
    "print(result[0].text)"
   ]
  },
  {
   "cell_type": "code",
   "execution_count": null,
   "metadata": {},
   "outputs": [],
   "source": [
    "import json\n",
    "\n",
    "json.loads(result[0].text)"
   ]
  },
  {
   "cell_type": "code",
   "execution_count": 22,
   "metadata": {},
   "outputs": [],
   "source": [
    "response_message = response.choices[0].message\n",
    "tool_calls = response_message.tool_calls"
   ]
  },
  {
   "cell_type": "code",
   "execution_count": 23,
   "metadata": {},
   "outputs": [],
   "source": [
    "tool_calls"
   ]
  }
 ],
 "metadata": {
  "kernelspec": {
   "display_name": ".venv",
   "language": "python",
   "name": "python3"
  },
  "language_info": {
   "codemirror_mode": {
    "name": "ipython",
    "version": 3
   },
   "file_extension": ".py",
   "mimetype": "text/x-python",
   "name": "python",
   "nbconvert_exporter": "python",
   "pygments_lexer": "ipython3",
   "version": "3.12.8"
  }
 },
 "nbformat": 4,
 "nbformat_minor": 2
}
