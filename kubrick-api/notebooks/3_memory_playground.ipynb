{
 "cells": [
  {
   "cell_type": "code",
   "execution_count": 10,
   "id": "fb827e07",
   "metadata": {},
   "outputs": [
    {
     "name": "stdout",
     "output_type": "stream",
     "text": [
      "Created directory 'agent'.\n",
      "Created table 'memory'.\n"
     ]
    }
   ],
   "source": [
    "import pixeltable as pxt\n",
    "\n",
    "pxt.create_dir(\"agent\", if_exists=\"replace_force\")\n",
    "short_term_memory = pxt.create_table(\n",
    "    \"agent.memory\",\n",
    "    {\n",
    "        \"message_id\": pxt.String,\n",
    "        \"role\": pxt.String,\n",
    "        \"content\": pxt.String,\n",
    "        \"timestamp\": pxt.Timestamp,\n",
    "    },\n",
    "    if_exists=\"replace_force\",\n",
    ")"
   ]
  },
  {
   "cell_type": "code",
   "execution_count": 11,
   "id": "7c3c82f4",
   "metadata": {},
   "outputs": [
    {
     "name": "stdout",
     "output_type": "stream",
     "text": [
      "Inserting rows into `memory`: 4 rows [00:00, 1196.49 rows/s]\n",
      "Inserted 4 rows with 0 errors.\n"
     ]
    },
    {
     "data": {
      "text/plain": [
       "4 rows inserted, 12 values computed."
      ]
     },
     "execution_count": 11,
     "metadata": {},
     "output_type": "execute_result"
    }
   ],
   "source": [
    "from datetime import datetime\n",
    "\n",
    "from pydantic import BaseModel\n",
    "\n",
    "\n",
    "class MemoryRecord(BaseModel):\n",
    "    message_id: str\n",
    "    role: str\n",
    "    content: str\n",
    "    timestamp: datetime\n",
    "\n",
    "\n",
    "records = [\n",
    "    {\n",
    "        \"message_id\": \"1\",\n",
    "        \"role\": \"user\",\n",
    "        \"content\": \"Hello, how are you? I was wondering if you could assist me with some tasks today. I have a lot to do and could use some help organizing my schedule.\",\n",
    "        \"timestamp\": datetime.now(),\n",
    "    },\n",
    "    {\n",
    "        \"message_id\": \"2\",\n",
    "        \"role\": \"assistant\",\n",
    "        \"content\": \"I'm fine, thank you! Of course, I'd be happy to help you organize your schedule and assist with any tasks you have. Please let me know what you need help with.\",\n",
    "        \"timestamp\": datetime.now(),\n",
    "    },\n",
    "    {\n",
    "        \"message_id\": \"3\",\n",
    "        \"role\": \"user\",\n",
    "        \"content\": \"What can you do? Can you help me set reminders, draft emails, and maybe even summarize some documents for me?\",\n",
    "        \"timestamp\": datetime.now(),\n",
    "    },\n",
    "    {\n",
    "        \"message_id\": \"4\",\n",
    "        \"role\": \"assistant\",\n",
    "        \"content\": \"I can help you with a variety of tasks such as setting reminders, drafting emails, summarizing documents, searching for information, and more. Just let me know what you need and I'll do my best to assist you.\",\n",
    "        \"timestamp\": datetime.now(),\n",
    "    },\n",
    "]\n",
    "\n",
    "records_parsed = [MemoryRecord(**record) for record in records]\n",
    "\n",
    "short_term_memory.insert(parsed.model_dump() for parsed in records_parsed)\n"
   ]
  },
  {
   "cell_type": "code",
   "execution_count": null,
   "id": "b3198f70",
   "metadata": {},
   "outputs": [
    {
     "ename": "TypeError",
     "evalue": "create_view() got an unexpected keyword argument 'columns'",
     "output_type": "error",
     "traceback": [
      "\u001b[31m---------------------------------------------------------------------------\u001b[39m",
      "\u001b[31mTypeError\u001b[39m                                 Traceback (most recent call last)",
      "\u001b[36mCell\u001b[39m\u001b[36m \u001b[39m\u001b[32mIn[13]\u001b[39m\u001b[32m, line 4\u001b[39m\n\u001b[32m      1\u001b[39m \u001b[38;5;28;01mfrom\u001b[39;00m\u001b[38;5;250m \u001b[39m\u001b[34;01mpixeltable\u001b[39;00m\u001b[34;01m.\u001b[39;00m\u001b[34;01mfunctions\u001b[39;00m\u001b[34;01m.\u001b[39;00m\u001b[34;01mhuggingface\u001b[39;00m\u001b[38;5;250m \u001b[39m\u001b[38;5;28;01mimport\u001b[39;00m sentence_transformer\n\u001b[32m      3\u001b[39m \u001b[38;5;66;03m# Long memory\u001b[39;00m\n\u001b[32m----> \u001b[39m\u001b[32m4\u001b[39m memory_view = \u001b[43mpxt\u001b[49m\u001b[43m.\u001b[49m\u001b[43mcreate_view\u001b[49m\u001b[43m(\u001b[49m\n\u001b[32m      5\u001b[39m \u001b[43m    \u001b[49m\u001b[33;43m\"\u001b[39;49m\u001b[33;43magent.memory_view\u001b[39;49m\u001b[33;43m\"\u001b[39;49m\u001b[43m,\u001b[49m\n\u001b[32m      6\u001b[39m \u001b[43m    \u001b[49m\u001b[43mshort_term_memory\u001b[49m\u001b[43m,\u001b[49m\n\u001b[32m      7\u001b[39m \u001b[43m    \u001b[49m\u001b[43mcolumns\u001b[49m\u001b[43m=\u001b[49m\u001b[43m[\u001b[49m\u001b[33;43m\"\u001b[39;49m\u001b[33;43mmessage_id\u001b[39;49m\u001b[33;43m\"\u001b[39;49m\u001b[43m,\u001b[49m\u001b[43m \u001b[49m\u001b[33;43m\"\u001b[39;49m\u001b[33;43mrole\u001b[39;49m\u001b[33;43m\"\u001b[39;49m\u001b[43m,\u001b[49m\u001b[43m \u001b[49m\u001b[33;43m\"\u001b[39;49m\u001b[33;43mcontent\u001b[39;49m\u001b[33;43m\"\u001b[39;49m\u001b[43m,\u001b[49m\u001b[43m \u001b[49m\u001b[33;43m\"\u001b[39;49m\u001b[33;43mtimestamp\u001b[39;49m\u001b[33;43m\"\u001b[39;49m\u001b[43m]\u001b[49m\u001b[43m,\u001b[49m\n\u001b[32m      8\u001b[39m \u001b[43m    \u001b[49m\u001b[43mif_exists\u001b[49m\u001b[43m=\u001b[49m\u001b[33;43m\"\u001b[39;49m\u001b[33;43mreplace_force\u001b[39;49m\u001b[33;43m\"\u001b[39;49m\u001b[43m,\u001b[49m\n\u001b[32m      9\u001b[39m \u001b[43m)\u001b[49m\n\u001b[32m     11\u001b[39m memory_view.add_embedding_index(\n\u001b[32m     12\u001b[39m     \u001b[33m\"\u001b[39m\u001b[33mcontent\u001b[39m\u001b[33m\"\u001b[39m,\n\u001b[32m     13\u001b[39m     string_embed=sentence_transformer.using(model_id=\u001b[33m\"\u001b[39m\u001b[33mintfloat/e5-large-v2\u001b[39m\u001b[33m\"\u001b[39m),\n\u001b[32m     14\u001b[39m     if_exists=\u001b[33m\"\u001b[39m\u001b[33mreplace_force\u001b[39m\u001b[33m\"\u001b[39m,\n\u001b[32m     15\u001b[39m )\n",
      "\u001b[31mTypeError\u001b[39m: create_view() got an unexpected keyword argument 'columns'"
     ]
    }
   ],
   "source": [
    "from pixeltable.functions.huggingface import sentence_transformer\n",
    "\n",
    "# Long memory\n",
    "\n",
    "short_term_memory.add_embedding_index(\n",
    "    \"content\",\n",
    "    string_embed=sentence_transformer.using(model_id=\"intfloat/e5-large-v2\"),\n",
    "    if_exists=\"replace_force\",\n",
    ")"
   ]
  }
 ],
 "metadata": {
  "kernelspec": {
   "display_name": "kubrick-api",
   "language": "python",
   "name": "python3"
  },
  "language_info": {
   "codemirror_mode": {
    "name": "ipython",
    "version": 3
   },
   "file_extension": ".py",
   "mimetype": "text/x-python",
   "name": "python",
   "nbconvert_exporter": "python",
   "pygments_lexer": "ipython3",
   "version": "3.12.8"
  }
 },
 "nbformat": 4,
 "nbformat_minor": 5
}
