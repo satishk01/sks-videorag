{
 "cells": [
  {
   "cell_type": "code",
   "execution_count": 1,
   "metadata": {},
   "outputs": [
    {
     "data": {
      "text/plain": [
       "True"
      ]
     },
     "execution_count": 1,
     "metadata": {},
     "output_type": "execute_result"
    }
   ],
   "source": [
    "from dotenv import load_dotenv\n",
    "\n",
    "load_dotenv()"
   ]
  },
  {
   "cell_type": "code",
   "execution_count": null,
   "metadata": {},
   "outputs": [],
   "source": [
    "import base64\n",
    "from io import BytesIO\n",
    "\n",
    "from PIL import Image\n",
    "\n",
    "from kubrick_api.agent.groq.groq_agent import GroqAgent\n",
    "\n",
    "\n",
    "def encode_image(image: Image.Image) -> str:\n",
    "    buffered = BytesIO()\n",
    "    image.save(buffered, format=image.format)\n",
    "    return base64.b64encode(buffered.getvalue()).decode()\n",
    "\n",
    "\n",
    "image = Image.open(\"data/sad_robot.png\")\n",
    "image_base64 = encode_image(image)\n",
    "\n",
    "agent = GroqAgent(\n",
    "    name=\"my_test_agent\",\n",
    "    mcp_server=\"http://localhost:9090/mcp\",\n",
    "    disable_tools=[\"process_video\"],\n",
    ")\n",
    "\n",
    "await agent.setup()"
   ]
  },
  {
   "cell_type": "code",
   "execution_count": null,
   "metadata": {},
   "outputs": [],
   "source": [
    "print(\n",
    "    agent.tool_use_system_prompt.format(\n",
    "        video_path=\"videos/pass_the_butter_rick_and_morty.mp4\",\n",
    "        is_image_provided=bool(image_base64),\n",
    "    )\n",
    ")"
   ]
  },
  {
   "cell_type": "markdown",
   "metadata": {},
   "source": [
    "### General Response\n"
   ]
  },
  {
   "cell_type": "code",
   "execution_count": null,
   "metadata": {},
   "outputs": [],
   "source": [
    "await agent.chat(\"What's your name?\", None, None)"
   ]
  },
  {
   "cell_type": "markdown",
   "metadata": {},
   "source": [
    "### Tool Use - Answer video question\n"
   ]
  },
  {
   "cell_type": "code",
   "execution_count": null,
   "metadata": {},
   "outputs": [],
   "source": [
    "await agent.chat(\n",
    "    \"Can you tell me what's Morty wearing in the video?\",\n",
    "    \"videos/pass_the_butter_rick_and_morty.mp4\",\n",
    ")"
   ]
  },
  {
   "cell_type": "code",
   "execution_count": null,
   "metadata": {},
   "outputs": [],
   "source": [
    "await agent.chat(\n",
    "    \"Hahaha that's funny\",\n",
    "    \"videos/pass_the_butter_rick_and_morty.mp4\",\n",
    ")"
   ]
  },
  {
   "cell_type": "markdown",
   "metadata": {},
   "source": [
    "### Tool Use - Video clip from user query\n"
   ]
  },
  {
   "cell_type": "code",
   "execution_count": null,
   "metadata": {},
   "outputs": [],
   "source": [
    "await agent.chat(\n",
    "    \"Give me the clip of the scene where Rick says 'pass the butter'\",\n",
    "    \"videos/pass_the_butter_rick_and_morty.mp4\",\n",
    ")"
   ]
  },
  {
   "cell_type": "markdown",
   "metadata": {},
   "source": [
    "### Completion with Image\n"
   ]
  },
  {
   "cell_type": "code",
   "execution_count": null,
   "metadata": {},
   "outputs": [],
   "source": [
    "await agent.chat(\n",
    "    \"Can you describe me this image?\",\n",
    "    \"videos/pass_the_butter_rick_and_morty.mp4\",\n",
    "    image_base64,\n",
    ")"
   ]
  },
  {
   "cell_type": "markdown",
   "metadata": {},
   "source": [
    "### Tool with Image\n"
   ]
  },
  {
   "cell_type": "code",
   "execution_count": null,
   "metadata": {},
   "outputs": [],
   "source": [
    "await agent.chat(\n",
    "    \"Give me the clip where this image appears.\",\n",
    "    \"videos/pass_the_butter_rick_and_morty.mp4\",\n",
    "    image_base64,\n",
    ")"
   ]
  },
  {
   "cell_type": "code",
   "execution_count": null,
   "metadata": {},
   "outputs": [],
   "source": [
    "print(agent.tool_use_system_prompt)"
   ]
  },
  {
   "cell_type": "code",
   "execution_count": null,
   "metadata": {},
   "outputs": [],
   "source": [
    "agent.reset_memory()"
   ]
  }
 ],
 "metadata": {
  "kernelspec": {
   "display_name": ".venv",
   "language": "python",
   "name": "python3"
  },
  "language_info": {
   "codemirror_mode": {
    "name": "ipython",
    "version": 3
   },
   "file_extension": ".py",
   "mimetype": "text/x-python",
   "name": "python",
   "nbconvert_exporter": "python",
   "pygments_lexer": "ipython3",
   "version": "3.12.8"
  }
 },
 "nbformat": 4,
 "nbformat_minor": 2
}
